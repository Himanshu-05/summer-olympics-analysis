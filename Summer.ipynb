{
 "cells": [
  {
   "cell_type": "markdown",
   "metadata": {},
   "source": [
    "# Summer Olympics Data Analysis Assignment"
   ]
  },
  {
   "cell_type": "code",
   "execution_count": 1,
   "metadata": {},
   "outputs": [],
   "source": [
    "import pandas as pd\n",
    "import numpy as np\n",
    "from collections import Counter"
   ]
  },
  {
   "cell_type": "code",
   "execution_count": 2,
   "metadata": {},
   "outputs": [
    {
     "data": {
      "text/html": [
       "<div>\n",
       "<style scoped>\n",
       "    .dataframe tbody tr th:only-of-type {\n",
       "        vertical-align: middle;\n",
       "    }\n",
       "\n",
       "    .dataframe tbody tr th {\n",
       "        vertical-align: top;\n",
       "    }\n",
       "\n",
       "    .dataframe thead th {\n",
       "        text-align: right;\n",
       "    }\n",
       "</style>\n",
       "<table border=\"1\" class=\"dataframe\">\n",
       "  <thead>\n",
       "    <tr style=\"text-align: right;\">\n",
       "      <th></th>\n",
       "      <th>Year</th>\n",
       "      <th>City</th>\n",
       "      <th>Sport</th>\n",
       "      <th>Discipline</th>\n",
       "      <th>Athlete</th>\n",
       "      <th>Country</th>\n",
       "      <th>Gender</th>\n",
       "      <th>Event</th>\n",
       "      <th>Medal</th>\n",
       "    </tr>\n",
       "  </thead>\n",
       "  <tbody>\n",
       "    <tr>\n",
       "      <td>0</td>\n",
       "      <td>1896</td>\n",
       "      <td>Athens</td>\n",
       "      <td>Aquatics</td>\n",
       "      <td>Swimming</td>\n",
       "      <td>HAJOS, Alfred</td>\n",
       "      <td>HUN</td>\n",
       "      <td>Men</td>\n",
       "      <td>100M Freestyle</td>\n",
       "      <td>Gold</td>\n",
       "    </tr>\n",
       "    <tr>\n",
       "      <td>1</td>\n",
       "      <td>1896</td>\n",
       "      <td>Athens</td>\n",
       "      <td>Aquatics</td>\n",
       "      <td>Swimming</td>\n",
       "      <td>HERSCHMANN, Otto</td>\n",
       "      <td>AUT</td>\n",
       "      <td>Men</td>\n",
       "      <td>100M Freestyle</td>\n",
       "      <td>Silver</td>\n",
       "    </tr>\n",
       "    <tr>\n",
       "      <td>2</td>\n",
       "      <td>1896</td>\n",
       "      <td>Athens</td>\n",
       "      <td>Aquatics</td>\n",
       "      <td>Swimming</td>\n",
       "      <td>DRIVAS, Dimitrios</td>\n",
       "      <td>GRE</td>\n",
       "      <td>Men</td>\n",
       "      <td>100M Freestyle For Sailors</td>\n",
       "      <td>Bronze</td>\n",
       "    </tr>\n",
       "    <tr>\n",
       "      <td>3</td>\n",
       "      <td>1896</td>\n",
       "      <td>Athens</td>\n",
       "      <td>Aquatics</td>\n",
       "      <td>Swimming</td>\n",
       "      <td>MALOKINIS, Ioannis</td>\n",
       "      <td>GRE</td>\n",
       "      <td>Men</td>\n",
       "      <td>100M Freestyle For Sailors</td>\n",
       "      <td>Gold</td>\n",
       "    </tr>\n",
       "    <tr>\n",
       "      <td>4</td>\n",
       "      <td>1896</td>\n",
       "      <td>Athens</td>\n",
       "      <td>Aquatics</td>\n",
       "      <td>Swimming</td>\n",
       "      <td>CHASAPIS, Spiridon</td>\n",
       "      <td>GRE</td>\n",
       "      <td>Men</td>\n",
       "      <td>100M Freestyle For Sailors</td>\n",
       "      <td>Silver</td>\n",
       "    </tr>\n",
       "  </tbody>\n",
       "</table>\n",
       "</div>"
      ],
      "text/plain": [
       "   Year    City     Sport Discipline             Athlete Country Gender  \\\n",
       "0  1896  Athens  Aquatics   Swimming       HAJOS, Alfred     HUN    Men   \n",
       "1  1896  Athens  Aquatics   Swimming    HERSCHMANN, Otto     AUT    Men   \n",
       "2  1896  Athens  Aquatics   Swimming   DRIVAS, Dimitrios     GRE    Men   \n",
       "3  1896  Athens  Aquatics   Swimming  MALOKINIS, Ioannis     GRE    Men   \n",
       "4  1896  Athens  Aquatics   Swimming  CHASAPIS, Spiridon     GRE    Men   \n",
       "\n",
       "                        Event   Medal  \n",
       "0              100M Freestyle    Gold  \n",
       "1              100M Freestyle  Silver  \n",
       "2  100M Freestyle For Sailors  Bronze  \n",
       "3  100M Freestyle For Sailors    Gold  \n",
       "4  100M Freestyle For Sailors  Silver  "
      ]
     },
     "execution_count": 2,
     "metadata": {},
     "output_type": "execute_result"
    }
   ],
   "source": [
    "df=pd.read_csv(\"summer.csv\")\n",
    "df.head()"
   ]
  },
  {
   "cell_type": "markdown",
   "metadata": {},
   "source": [
    "### 1. In how many cities Summer Olympics is held so far?"
   ]
  },
  {
   "cell_type": "code",
   "execution_count": 3,
   "metadata": {},
   "outputs": [
    {
     "name": "stdout",
     "output_type": "stream",
     "text": [
      "Number of cities where Summer Olympics were held so far = 22\n"
     ]
    }
   ],
   "source": [
    "cities=df['City'].unique()\n",
    "print(\"Number of cities where Summer Olympics were held so far =\",len(cities))"
   ]
  },
  {
   "cell_type": "markdown",
   "metadata": {},
   "source": [
    "### 2. Which sport is having most number of Gold Medals so far? (Top 5)"
   ]
  },
  {
   "cell_type": "code",
   "execution_count": 4,
   "metadata": {},
   "outputs": [
    {
     "name": "stdout",
     "output_type": "stream",
     "text": [
      "Top 5 Sports having most number of Gold medals so far: \n",
      "\n",
      "1.Aquatics   :  1421\n",
      "2.Athletics  :  1215\n",
      "3.Rowing     :   890\n",
      "4.Gymnastics :   820\n",
      "5.Fencing    :   552\n"
     ]
    }
   ],
   "source": [
    "count=Counter(df[df['Medal']=='Gold']['Sport'])\n",
    "print(\"Top 5 Sports having most number of Gold medals so far: \\n\")\n",
    "for count,(sports,medals) in enumerate(count.most_common(5),1):\n",
    "    print(\"{}.{:<10} : {:>5}\".format(count,sports,medals))"
   ]
  },
  {
   "cell_type": "markdown",
   "metadata": {},
   "source": [
    "### 3. Which sport is having most number of medals so far? (Top 5)"
   ]
  },
  {
   "cell_type": "code",
   "execution_count": 5,
   "metadata": {},
   "outputs": [
    {
     "name": "stdout",
     "output_type": "stream",
     "text": [
      "Top 5 Sports having most number of medals so far: \n",
      "\n",
      "1.Aquatics   :  4170\n",
      "2.Athletics  :  3638\n",
      "3.Rowing     :  2667\n",
      "4.Gymnastics :  2307\n",
      "5.Fencing    :  1613\n"
     ]
    }
   ],
   "source": [
    "count=Counter(df['Sport'])\n",
    "print(\"Top 5 Sports having most number of medals so far: \\n\")\n",
    "for count,(sports,medals) in enumerate(count.most_common(5),1):\n",
    "    print(\"{}.{:<10} : {:>5}\".format(count,sports,medals))"
   ]
  },
  {
   "cell_type": "markdown",
   "metadata": {},
   "source": [
    "### 4. Which player has won most number of medals? (Top 5)"
   ]
  },
  {
   "cell_type": "code",
   "execution_count": 6,
   "metadata": {},
   "outputs": [
    {
     "name": "stdout",
     "output_type": "stream",
     "text": [
      "Top 5 Athletes having won most number of medals so far: \n",
      "\n",
      "1.PHELPS, Michael      :    22\n",
      "2.LATYNINA, Larisa     :    18\n",
      "3.ANDRIANOV, Nikolay   :    15\n",
      "4.MANGIAROTTI, Edoardo :    13\n",
      "5.ONO, Takashi         :    13\n"
     ]
    }
   ],
   "source": [
    "count=Counter(df['Athlete'])\n",
    "print(\"Top 5 Athletes having won most number of medals so far: \\n\")\n",
    "for count,(athlete,medals) in enumerate(count.most_common(5),1):\n",
    "    print(\"{}.{:<20} : {:>5}\".format(count,athlete,medals))"
   ]
  },
  {
   "cell_type": "markdown",
   "metadata": {},
   "source": [
    "### 5. Which player has won most number Gold Medals of medals? (Top 5)"
   ]
  },
  {
   "cell_type": "code",
   "execution_count": 7,
   "metadata": {},
   "outputs": [
    {
     "name": "stdout",
     "output_type": "stream",
     "text": [
      "Top 5 Athletes having won most number of Gold medals so far: \n",
      "\n",
      "1.PHELPS, Michael      :    18\n",
      "2.NURMI, Paavo         :     9\n",
      "3.LATYNINA, Larisa     :     9\n",
      "4.SPITZ, Mark          :     9\n",
      "5.LEWIS, Carl          :     9\n"
     ]
    }
   ],
   "source": [
    "count=Counter(df[df['Medal']=='Gold']['Athlete'])\n",
    "print(\"Top 5 Athletes having won most number of Gold medals so far: \\n\")\n",
    "for count,(athlete,medals) in enumerate(count.most_common(5),1):\n",
    "    print(\"{}.{:<20} : {:>5}\".format(count,athlete,medals))"
   ]
  },
  {
   "cell_type": "markdown",
   "metadata": {},
   "source": [
    "### 6. In which year India won first Gold Medal in Summer Olympics?"
   ]
  },
  {
   "cell_type": "code",
   "execution_count": 8,
   "metadata": {},
   "outputs": [
    {
     "name": "stdout",
     "output_type": "stream",
     "text": [
      "India won its first gold medal in 1928 Summer Olympics held at Amsterdam in Men's Hockey\n"
     ]
    }
   ],
   "source": [
    "india_gold=df[(df['Country']=='IND') & (df['Medal']=='Gold')]\n",
    "first_gold=india_gold.iloc[0]\n",
    "print(\"India won its first gold medal in {} Summer Olympics held at {} in {}'s {}\".format(first_gold['Year'],first_gold['City'],first_gold['Gender'],first_gold['Sport']))"
   ]
  },
  {
   "cell_type": "markdown",
   "metadata": {},
   "source": [
    "### 7. Which event is most popular in terms on number of players? (Top 5)"
   ]
  },
  {
   "cell_type": "code",
   "execution_count": 9,
   "metadata": {},
   "outputs": [
    {
     "name": "stdout",
     "output_type": "stream",
     "text": [
      "Top 5 Event having most number of players: \n",
      "\n",
      "1.Football           :  1497\n",
      "2.Hockey             :  1422\n",
      "3.Team Competition   :  1147\n",
      "4.Basketball         :  1012\n",
      "5.Handball           :   973\n"
     ]
    }
   ],
   "source": [
    "count=Counter(df['Event'])\n",
    "print(\"Top 5 Event having most number of players: \\n\")\n",
    "for count,(event,players) in enumerate(count.most_common(5),1):\n",
    "    print(\"{}.{:<18} : {:>5}\".format(count,event,players))"
   ]
  },
  {
   "cell_type": "markdown",
   "metadata": {},
   "source": [
    "### 8. Which sport is having most female Gold Medalists? (Top 5)"
   ]
  },
  {
   "cell_type": "code",
   "execution_count": 10,
   "metadata": {},
   "outputs": [
    {
     "name": "stdout",
     "output_type": "stream",
     "text": [
      "Top 5 Sports having most number of female Gold medalists so far: \n",
      "\n",
      "1.Aquatics   :   589\n",
      "2.Athletics  :   389\n",
      "3.Gymnastics :   268\n",
      "4.Rowing     :   217\n",
      "5.Volleyball :   166\n"
     ]
    }
   ],
   "source": [
    "count=Counter(df[(df['Medal']=='Gold') & (df['Gender']=='Women')]['Sport'])\n",
    "print(\"Top 5 Sports having most number of female Gold medalists so far: \\n\")\n",
    "for count,(sports,female_medalists) in enumerate(count.most_common(5),1):\n",
    "    print(\"{}.{:<10} : {:>5}\".format(count,sports,female_medalists))"
   ]
  }
 ],
 "metadata": {
  "kernelspec": {
   "display_name": "Python 3",
   "language": "python",
   "name": "python3"
  },
  "language_info": {
   "codemirror_mode": {
    "name": "ipython",
    "version": 3
   },
   "file_extension": ".py",
   "mimetype": "text/x-python",
   "name": "python",
   "nbconvert_exporter": "python",
   "pygments_lexer": "ipython3",
   "version": "3.7.4"
  }
 },
 "nbformat": 4,
 "nbformat_minor": 2
}
